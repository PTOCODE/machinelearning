{
  "nbformat": 4,
  "nbformat_minor": 0,
  "metadata": {
    "colab": {
      "name": "SVC_Forest_Cover_Kaggle.ipynb",
      "version": "0.3.2",
      "provenance": [],
      "include_colab_link": true
    },
    "kernelspec": {
      "name": "python3",
      "display_name": "Python 3"
    },
    "accelerator": "TPU"
  },
  "cells": [
    {
      "cell_type": "markdown",
      "metadata": {
        "id": "view-in-github",
        "colab_type": "text"
      },
      "source": [
        "<a href=\"https://colab.research.google.com/github/dravidshankar/Machine-Learning/blob/master/SVC_Forest_Cover_Kaggle.ipynb\" target=\"_parent\"><img src=\"https://colab.research.google.com/assets/colab-badge.svg\" alt=\"Open In Colab\"/></a>"
      ]
    },
    {
      "cell_type": "code",
      "metadata": {
        "id": "RsZIhZCtWMCO",
        "colab_type": "code",
        "colab": {}
      },
      "source": [
        "from sklearn.svm import LinearSVC\n",
        "from sklearn.datasets import load_iris\n",
        "from sklearn.feature_selection import SelectFromModel\n",
        "import pandas as pd\n",
        "import sklearn.metrics\n",
        "from sklearn.preprocessing import StandardScaler\n"
      ],
      "execution_count": 0,
      "outputs": []
    },
    {
      "cell_type": "code",
      "metadata": {
        "id": "4iobUoHtYB4r",
        "colab_type": "code",
        "colab": {
          "base_uri": "https://localhost:8080/",
          "height": 338
        },
        "outputId": "0fe1439f-7cb8-44ff-e7b8-148d2f530592"
      },
      "source": [
        "data=pd.read_csv(\"covtype.csv\")\n",
        "print(data.columns)\n",
        "print(len(data.columns))\n",
        "\n"
      ],
      "execution_count": 100,
      "outputs": [
        {
          "output_type": "stream",
          "text": [
            "Index(['Elevation', 'Aspect', 'Slope', 'Horizontal_Distance_To_Hydrology',\n",
            "       'Vertical_Distance_To_Hydrology', 'Horizontal_Distance_To_Roadways',\n",
            "       'Hillshade_9am', 'Hillshade_Noon', 'Hillshade_3pm',\n",
            "       'Horizontal_Distance_To_Fire_Points', 'Wilderness_Area1',\n",
            "       'Wilderness_Area2', 'Wilderness_Area3', 'Wilderness_Area4',\n",
            "       'Soil_Type1', 'Soil_Type2', 'Soil_Type3', 'Soil_Type4', 'Soil_Type5',\n",
            "       'Soil_Type6', 'Soil_Type7', 'Soil_Type8', 'Soil_Type9', 'Soil_Type10',\n",
            "       'Soil_Type11', 'Soil_Type12', 'Soil_Type13', 'Soil_Type14',\n",
            "       'Soil_Type15', 'Soil_Type16', 'Soil_Type17', 'Soil_Type18',\n",
            "       'Soil_Type19', 'Soil_Type20', 'Soil_Type21', 'Soil_Type22',\n",
            "       'Soil_Type23', 'Soil_Type24', 'Soil_Type25', 'Soil_Type26',\n",
            "       'Soil_Type27', 'Soil_Type28', 'Soil_Type29', 'Soil_Type30',\n",
            "       'Soil_Type31', 'Soil_Type32', 'Soil_Type33', 'Soil_Type34',\n",
            "       'Soil_Type35', 'Soil_Type36', 'Soil_Type37', 'Soil_Type38',\n",
            "       'Soil_Type39', 'Soil_Type40', 'Cover_Type'],\n",
            "      dtype='object')\n",
            "55\n"
          ],
          "name": "stdout"
        }
      ]
    },
    {
      "cell_type": "code",
      "metadata": {
        "id": "gxNbIW7NdPHo",
        "colab_type": "code",
        "colab": {
          "base_uri": "https://localhost:8080/",
          "height": 319
        },
        "outputId": "1a5c4324-ee9d-4283-8995-ef791b0b4cd0"
      },
      "source": [
        "X=data.iloc[0:100000,0:54] #Selecting first 1 lakh samples only out of 5 lakhs+ samples\n",
        "print(X.columns)\n",
        "y=data.iloc[0:100000,54]\n"
      ],
      "execution_count": 101,
      "outputs": [
        {
          "output_type": "stream",
          "text": [
            "Index(['Elevation', 'Aspect', 'Slope', 'Horizontal_Distance_To_Hydrology',\n",
            "       'Vertical_Distance_To_Hydrology', 'Horizontal_Distance_To_Roadways',\n",
            "       'Hillshade_9am', 'Hillshade_Noon', 'Hillshade_3pm',\n",
            "       'Horizontal_Distance_To_Fire_Points', 'Wilderness_Area1',\n",
            "       'Wilderness_Area2', 'Wilderness_Area3', 'Wilderness_Area4',\n",
            "       'Soil_Type1', 'Soil_Type2', 'Soil_Type3', 'Soil_Type4', 'Soil_Type5',\n",
            "       'Soil_Type6', 'Soil_Type7', 'Soil_Type8', 'Soil_Type9', 'Soil_Type10',\n",
            "       'Soil_Type11', 'Soil_Type12', 'Soil_Type13', 'Soil_Type14',\n",
            "       'Soil_Type15', 'Soil_Type16', 'Soil_Type17', 'Soil_Type18',\n",
            "       'Soil_Type19', 'Soil_Type20', 'Soil_Type21', 'Soil_Type22',\n",
            "       'Soil_Type23', 'Soil_Type24', 'Soil_Type25', 'Soil_Type26',\n",
            "       'Soil_Type27', 'Soil_Type28', 'Soil_Type29', 'Soil_Type30',\n",
            "       'Soil_Type31', 'Soil_Type32', 'Soil_Type33', 'Soil_Type34',\n",
            "       'Soil_Type35', 'Soil_Type36', 'Soil_Type37', 'Soil_Type38',\n",
            "       'Soil_Type39', 'Soil_Type40'],\n",
            "      dtype='object')\n"
          ],
          "name": "stdout"
        }
      ]
    },
    {
      "cell_type": "code",
      "metadata": {
        "id": "H7J2JHE3yCOe",
        "colab_type": "code",
        "colab": {
          "base_uri": "https://localhost:8080/",
          "height": 36
        },
        "outputId": "fb95251b-c415-4ab4-9e3b-32654f17dc49"
      },
      "source": [
        "print(X.shape)"
      ],
      "execution_count": 102,
      "outputs": [
        {
          "output_type": "stream",
          "text": [
            "(100000, 54)\n"
          ],
          "name": "stdout"
        }
      ]
    },
    {
      "cell_type": "markdown",
      "metadata": {
        "id": "DPYIJM108cnQ",
        "colab_type": "text"
      },
      "source": [
        "FEATURE SCALING\n"
      ]
    },
    {
      "cell_type": "code",
      "metadata": {
        "id": "q0cgWv2nyhV9",
        "colab_type": "code",
        "colab": {
          "base_uri": "https://localhost:8080/",
          "height": 111
        },
        "outputId": "4777eecd-418e-4f1e-eb1d-80883ee9b603"
      },
      "source": [
        "lsvc = LinearSVC(C=0.01, penalty=\"l1\", dual=False).fit(X, y)\n",
        "model = SelectFromModel(lsvc, prefit=True)\n",
        "X_new = model.transform(X)\n",
        "print(X_new.shape)\n",
        "scaler = StandardScaler()#scaler object of class Standardization\n",
        "scaler.fit(X_new)\n",
        "X=scaler.transform(X_new)#standardized feature\n",
        "X_train=X_new[0:70000,0:42] # Training first 70k samples. Features get reduced to 42 after feature selection\n",
        "y_train=data.iloc[0:70000,54] #Output class - first 70k output samples\n",
        "X_test=X_new[70000:100000,0:42] #Testing next 30k samples.\n",
        "y_test=data.iloc[70000:100000,54] # Testing next 30k output samples.\n",
        "print(X_train.shape)\n",
        "print(X_test.shape)\n",
        "print(y_train.shape)\n",
        "print(y_test.shape)"
      ],
      "execution_count": 104,
      "outputs": [
        {
          "output_type": "stream",
          "text": [
            "(100000, 42)\n",
            "(70000, 42)\n",
            "(30000, 42)\n",
            "(70000,)\n",
            "(30000,)\n"
          ],
          "name": "stdout"
        }
      ]
    },
    {
      "cell_type": "code",
      "metadata": {
        "id": "nhVsReHsy-ud",
        "colab_type": "code",
        "colab": {
          "base_uri": "https://localhost:8080/",
          "height": 92
        },
        "outputId": "1ae063f3-975e-46f7-f11c-766f45dea8d3"
      },
      "source": [
        "lsvc.fit(X_new,y)\n"
      ],
      "execution_count": 105,
      "outputs": [
        {
          "output_type": "execute_result",
          "data": {
            "text/plain": [
              "LinearSVC(C=0.01, class_weight=None, dual=False, fit_intercept=True,\n",
              "     intercept_scaling=1, loss='squared_hinge', max_iter=1000,\n",
              "     multi_class='ovr', penalty='l1', random_state=None, tol=0.0001,\n",
              "     verbose=0)"
            ]
          },
          "metadata": {
            "tags": []
          },
          "execution_count": 105
        }
      ]
    },
    {
      "cell_type": "code",
      "metadata": {
        "id": "h6qbTojKzXbs",
        "colab_type": "code",
        "colab": {
          "base_uri": "https://localhost:8080/",
          "height": 36
        },
        "outputId": "e2c1cdfe-301b-4faf-8c91-075cb1745c34"
      },
      "source": [
        "y_pred=lsvc.predict(X_test)\n",
        "print(sklearn.metrics.f1_score(y_test,y_pred,average='micro'))#prints f1 score, argument value for average=\"micro\"\n"
      ],
      "execution_count": 106,
      "outputs": [
        {
          "output_type": "stream",
          "text": [
            "0.8362\n"
          ],
          "name": "stdout"
        }
      ]
    },
    {
      "cell_type": "code",
      "metadata": {
        "id": "zjFB8UNo0E2_",
        "colab_type": "code",
        "colab": {}
      },
      "source": [
        ""
      ],
      "execution_count": 0,
      "outputs": []
    }
  ]
}