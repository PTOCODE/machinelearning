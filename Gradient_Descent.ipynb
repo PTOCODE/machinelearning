{
  "cells": [
    {
      "metadata": {
        "trusted": true
      },
      "cell_type": "code",
      "source": "import numpy as np",
      "execution_count": 2,
      "outputs": []
    },
    {
      "metadata": {},
      "cell_type": "markdown",
      "source": "# Assignment 3 Questions 4,5,6"
    },
    {
      "metadata": {
        "trusted": true
      },
      "cell_type": "code",
      "source": "w=[5,5]\nw1=[]\nw2=[]\nw3=[]\nw4=[]\nw5=[]\nw1.append(w[0]-0.3*(2*w[0]+4))\nw1.append(w[1]-0.3*(2*w[1]-6))\nprint(w1)\n\nw2.append(w1[0]-0.3*(2*w1[0]+4))\nw2.append(w1[1]-0.3*(2*w1[1]-6))\nprint(w2)\n\nw3.append(w2[0]-0.3*(2*w2[0]+4))\nw3.append(w2[1]-0.3*(2*w2[1]-6))\nprint(w3)\n\nw4.append(w3[0]-0.3*(2*w3[0]+4))\nw4.append(w3[1]-0.3*(2*w3[1]-6))\nprint(w4)\nJ4=w4[0]**2+w4[1]**2+4*w4[0]-6*w4[1]-7\nprint(J4)\n\nw5.append(w4[0]-0.3*(2*w4[0]+4))\nw5.append(w4[1]-0.3*(2*w4[1]-6))\n\nJ5=w5[0]**2+w5[1]**2+4*w5[0]-6*w5[1]-7\nprint(J5)\n\nprint(\"W in 5th iterations is:\",w5)\nprint(\"Absolute value of difference between J5 and J4 is:\",abs(J5-J4))\n\n",
      "execution_count": 1,
      "outputs": [
        {
          "output_type": "stream",
          "text": "[0.7999999999999998, 3.8]\n[-0.8800000000000001, 3.32]\n[-1.552, 3.128]\n[-1.8208, 3.0512]\n-19.96526592\n-19.994442547200002\nW in 5th iterations is: [-1.92832, 3.02048]\nAbsolute value of difference between J5 and J4 is: 0.029176627200001803\n",
          "name": "stdout"
        }
      ]
    },
    {
      "metadata": {},
      "cell_type": "markdown",
      "source": "# Using loops"
    },
    {
      "metadata": {
        "trusted": true
      },
      "cell_type": "code",
      "source": "w=np.array([5,5])\nfor i in range(1,6):\n    w=w-.3*(np.array([(2*w[0]+4),(2*w[1]-6)]))\n    print(\"w\",i,\"is: \",w)",
      "execution_count": 17,
      "outputs": [
        {
          "output_type": "stream",
          "text": "w 1 is:  [0.8 3.8]\nw 2 is:  [-0.88  3.32]\nw 3 is:  [-1.552  3.128]\nw 4 is:  [-1.8208  3.0512]\nw 5 is:  [-1.92832  3.02048]\n",
          "name": "stdout"
        }
      ]
    },
    {
      "metadata": {
        "trusted": true
      },
      "cell_type": "code",
      "source": "x=np.array([0,0.25,0.5,0.75,1])\ny=np.array([0.8822,1.2165,1.3171,1.7930,1.9826])\nJ=0\nfor i in range(0,5):\n    J+=y[i]**2\nJ=J/10\nprint(J)",
      "execution_count": 21,
      "outputs": [
        {
          "output_type": "stream",
          "text": "1.1138453259999999\n",
          "name": "stdout"
        }
      ]
    },
    {
      "metadata": {
        "trusted": true
      },
      "cell_type": "code",
      "source": "",
      "execution_count": null,
      "outputs": []
    }
  ],
  "metadata": {
    "kernelspec": {
      "name": "python36",
      "display_name": "Python 3.6",
      "language": "python"
    },
    "language_info": {
      "mimetype": "text/x-python",
      "nbconvert_exporter": "python",
      "name": "python",
      "pygments_lexer": "ipython3",
      "version": "3.6.6",
      "file_extension": ".py",
      "codemirror_mode": {
        "version": 3,
        "name": "ipython"
      }
    }
  },
  "nbformat": 4,
  "nbformat_minor": 2
}
