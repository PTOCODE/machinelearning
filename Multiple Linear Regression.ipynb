{
 "cells": [
  {
   "cell_type": "code",
   "execution_count": 1,
   "metadata": {},
   "outputs": [],
   "source": [
    "import numpy as np\n",
    "import matplotlib.pyplot as plt"
   ]
  },
  {
   "cell_type": "code",
   "execution_count": 2,
   "metadata": {},
   "outputs": [
    {
     "name": "stdout",
     "output_type": "stream",
     "text": [
      "[[ 1  6  2]\n",
      " [ 1  8  1]\n",
      " [ 1 10  0]\n",
      " [ 1 14  2]\n",
      " [ 1 18  0]]\n"
     ]
    }
   ],
   "source": [
    "x1=np.array([6,8,10,14,18]).reshape(5,1)\n",
    "x2=np.array([2,1,0,2,0]).reshape(5,1)\n",
    "y=np.array([7,9,13,17.5,18]).reshape(5,1)\n",
    "c1=np.array([1 for i in range(5)]).reshape(5,1)\n",
    "X=np.concatenate([c1,x1,x2],axis=1)\n",
    "print(X)\n"
   ]
  },
  {
   "cell_type": "code",
   "execution_count": 3,
   "metadata": {},
   "outputs": [
    {
     "name": "stdout",
     "output_type": "stream",
     "text": [
      "[[1.1875    ]\n",
      " [1.01041667]\n",
      " [0.39583333]]\n"
     ]
    },
    {
     "name": "stderr",
     "output_type": "stream",
     "text": [
      "/home/asapadmin/miniconda3/envs/asap/lib/python3.6/site-packages/ipykernel_launcher.py:2: FutureWarning: `rcond` parameter will change to the default of machine precision times ``max(M, N)`` where M and N are the input matrix dimensions.\n",
      "To use the future default and silence this warning we advise to pass `rcond=None`, to keep using the old, explicitly pass `rcond=-1`.\n",
      "  \n"
     ]
    }
   ],
   "source": [
    "from numpy.linalg import lstsq\n",
    "THETA_LS=lstsq(X,y)[0]\n",
    "print(THETA_LS)"
   ]
  },
  {
   "cell_type": "code",
   "execution_count": 4,
   "metadata": {},
   "outputs": [
    {
     "name": "stdout",
     "output_type": "stream",
     "text": [
      "[[ 1  8  2]\n",
      " [ 1  9  0]\n",
      " [ 1 11  2]\n",
      " [ 1 16  2]\n",
      " [ 1 12  0]]\n"
     ]
    }
   ],
   "source": [
    "xx1=np.array([8,9,11,16,12]).reshape(5,1)\n",
    "xx2=np.array([2,0,2,2,0]).reshape(5,1)\n",
    "y_test=np.array([11,8.5,15,18,11]).reshape(5,1)\n",
    "X_test=np.concatenate([c1,xx1,xx2],axis=1)\n",
    "print(X_test)\n",
    "\n"
   ]
  },
  {
   "cell_type": "code",
   "execution_count": 5,
   "metadata": {},
   "outputs": [],
   "source": [
    "from sklearn.linear_model import LinearRegression\n",
    "model=LinearRegression()\n"
   ]
  },
  {
   "cell_type": "code",
   "execution_count": 6,
   "metadata": {},
   "outputs": [
    {
     "name": "stdout",
     "output_type": "stream",
     "text": [
      "[[10.0625    ]\n",
      " [10.28125   ]\n",
      " [13.09375   ]\n",
      " [18.14583333]\n",
      " [13.3125    ]]\n"
     ]
    }
   ],
   "source": [
    "model.fit(X,y)\n",
    "y_predict=model.predict(X_test)\n",
    "print(y_predict)"
   ]
  },
  {
   "cell_type": "code",
   "execution_count": 7,
   "metadata": {},
   "outputs": [
    {
     "name": "stdout",
     "output_type": "stream",
     "text": [
      "0.7701677731318466\n"
     ]
    }
   ],
   "source": [
    "print(model.score(X_test,y_test))"
   ]
  }
 ],
 "metadata": {
  "kernelspec": {
   "display_name": "Python 3",
   "language": "python",
   "name": "python3"
  },
  "language_info": {
   "codemirror_mode": {
    "name": "ipython",
    "version": 3
   },
   "file_extension": ".py",
   "mimetype": "text/x-python",
   "name": "python",
   "nbconvert_exporter": "python",
   "pygments_lexer": "ipython3",
   "version": "3.6.7"
  }
 },
 "nbformat": 4,
 "nbformat_minor": 2
}
